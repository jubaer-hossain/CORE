{
 "cells": [
  {
   "cell_type": "markdown",
   "metadata": {},
   "source": [
    "### Array libraries\n",
    "- Provided by the \"list\" property\n",
    "- Dynamically-resized\n",
    "- Tuples are same but not mutable\n",
    "- Can insert & delete elements at arbitrary locations"
   ]
  },
  {
   "cell_type": "code",
   "execution_count": 64,
   "metadata": {},
   "outputs": [
    {
     "name": "stdout",
     "output_type": "stream",
     "text": [
      "[1, 2, 3]\n",
      "[1, 2, 2, 2, 2, 2, 2, 2, 2, 2, 2]\n",
      "[5, 6, 7, 8, 9, 10, 11]\n"
     ]
    }
   ],
   "source": [
    "arrayOne = [1, 2, 3]\n",
    "arrayTwo = [1] + [2] * 10\n",
    "arrayThree = list(range(5, 12))\n",
    "print(arrayOne)\n",
    "print(arrayTwo)\n",
    "print(arrayThree)"
   ]
  },
  {
   "cell_type": "code",
   "execution_count": 65,
   "metadata": {},
   "outputs": [
    {
     "name": "stdout",
     "output_type": "stream",
     "text": [
      "11\n",
      "[1, 2, 3, 55]\n",
      "[1, 3, 55]\n",
      "[1, 3, 9, 55]\n"
     ]
    }
   ],
   "source": [
    "# Basic array operations\n",
    "arrayOne = [1, 2, 3]\n",
    "arrayTwo = [1] + [2] * 10\n",
    "arrayThree = list(range(5, 12))\n",
    "\n",
    "print(len(arrayTwo))\n",
    "\n",
    "arrayOne.append(55) # Adds 55 at the end of arrayOne\n",
    "print(arrayOne)\n",
    "\n",
    "arrayOne.remove(2)\n",
    "print(arrayOne)\n",
    "\n",
    "arrayOne.insert(2, 9) # insert 9 at idx 2 and pushes all elements back after idx 2\n",
    "print(arrayOne)"
   ]
  },
  {
   "cell_type": "code",
   "execution_count": 66,
   "metadata": {},
   "outputs": [
    {
     "name": "stdout",
     "output_type": "stream",
     "text": [
      "True\n"
     ]
    }
   ],
   "source": [
    "# Checking value in an array\n",
    "arrayOne = [1, 2, 3]\n",
    "arrayTwo = [1] + [2] * 10\n",
    "arrayThree = list(range(5, 12))\n",
    "\n",
    "print(3 in arrayOne) # O(n) time"
   ]
  },
  {
   "cell_type": "code",
   "execution_count": 67,
   "metadata": {},
   "outputs": [
    {
     "name": "stdout",
     "output_type": "stream",
     "text": [
      "[1, 2, 3, 9, 10, 11]\n",
      "[[1, 2, 3], [9, 10, 11]]\n",
      "36\n",
      "1\n"
     ]
    }
   ],
   "source": [
    "# Adding arrays\n",
    "arrayOne = [1, 2, 3]\n",
    "arrayTwo = [9, 10, 11]\n",
    "arrayThree = list(range(5, 12))\n",
    "\n",
    "arrayFour = arrayOne + arrayTwo # Create a new array with first elements from first array and rest of the elements from the second array\n",
    "print(arrayFour)\n",
    "\n",
    "arrayFive = [arrayOne] + [arrayTwo] # Creates a 2D array\n",
    "print(arrayFive)\n",
    "\n",
    "print(sum(arrayFour)) # Sum of 1D array. Doesn't work for 2D arrays\n",
    "\n",
    "print(min(arrayFour)) # Min element"
   ]
  },
  {
   "cell_type": "code",
   "execution_count": 68,
   "metadata": {},
   "outputs": [
    {
     "name": "stdout",
     "output_type": "stream",
     "text": [
      "[1, 2, 3]\n",
      "[1, 2, 3]\n",
      "[1, 2, 55]\n",
      "[1, 2, 55]\n",
      "[1, 2, 55]\n",
      "[1, 2, 55]\n",
      "[1, 2, 55]\n",
      "ArrayOne:  [1, 2, 55]\n",
      "ArrayFour:  [1, 2, 100]\n"
     ]
    }
   ],
   "source": [
    "# Shallow copy vs Deepcopy\n",
    "\n",
    "# Shallow copy\n",
    "arrayOne = [1, 2, 3]\n",
    "arrayTwo = arrayOne\n",
    "\n",
    "print(arrayOne)\n",
    "print(arrayTwo)\n",
    "\n",
    "arrayTwo[2] = 55 # Changes both lists\n",
    "\n",
    "print(arrayOne)\n",
    "print(arrayTwo)\n",
    "\n",
    "import copy\n",
    "\n",
    "arrayThree = copy.copy(arrayOne) # Does the exact same thing as A = B\n",
    "print(arrayThree)\n",
    "\n",
    "# Deepcopy\n",
    "arrayFour = list(arrayOne) # Creating an independent copy of the list. No reference\n",
    "\n",
    "print(arrayOne)\n",
    "print(arrayFour)\n",
    "\n",
    "arrayFour[2] = 100\n",
    "\n",
    "print(\"ArrayOne: \", arrayOne)\n",
    "print(\"ArrayFour: \", arrayFour)\n",
    "\n",
    "arrayFive = copy.deepcopy(arrayOne) # Exact same thing as A = list(B)\n",
    "\n"
   ]
  },
  {
   "cell_type": "code",
   "execution_count": 69,
   "metadata": {},
   "outputs": [
    {
     "name": "stdout",
     "output_type": "stream",
     "text": [
      "1\n",
      "3\n",
      "3\n"
     ]
    }
   ],
   "source": [
    "# Binary search\n",
    "\n",
    "import bisect\n",
    "arrayTwo = [1, 2, 2, 3, 4, 5, 5, 9]\n",
    "\n",
    "print(bisect.bisect_left(arrayTwo, 2)) # Leftmost occurance of a number\n",
    "\n",
    "print(bisect.bisect_right(arrayTwo, 2)) # Index after 2 where I can insert an element to keep it's sorted properties\n",
    "\n",
    "print(bisect.bisect(arrayTwo, 2)) # Shorthand for bisect_right\n",
    "\n",
    "# bisect.insort_left((arrayTwo, 3)) # Doesn't really work"
   ]
  },
  {
   "cell_type": "code",
   "execution_count": 72,
   "metadata": {},
   "outputs": [
    {
     "name": "stdout",
     "output_type": "stream",
     "text": [
      "<list_reverseiterator object at 0x10a3007f0>\n",
      "List b is: [9, 5, 5, 4, 3, 2, 2, 1]\n",
      "Looping through list 'a' in reversed:\n",
      "9\n",
      "5\n",
      "5\n",
      "4\n",
      "3\n",
      "2\n",
      "2\n",
      "1\n",
      "[3, 2, 1]\n",
      "[6, 5, 4]\n",
      "[4, 5, 6]\n"
     ]
    }
   ],
   "source": [
    "a = [1, 2, 2, 3, 4, 5, 5, 9]\n",
    "print(reversed(a)) # Returns a reverse iterator object\n",
    "\n",
    "b = list(reversed(a))\n",
    "\n",
    "print(\"List b is:\", b)\n",
    "\n",
    "print(\"Looping through list 'a' in reversed:\")\n",
    "for i in reversed(a):\n",
    "    print(i)\n",
    "\n",
    "c = [1, 2, 3]\n",
    "c.reverse() # In-place reversal of the list. Overwrites it. \n",
    "print(c)\n",
    "\n",
    "d = [4, 5, 6]\n",
    "print(d[::-1]) # Prints reversed list but doesn't overwrite it\n",
    "print(d)"
   ]
  },
  {
   "cell_type": "code",
   "execution_count": 79,
   "metadata": {},
   "outputs": [
    {
     "name": "stdout",
     "output_type": "stream",
     "text": [
      "[9, 11, 55]\n",
      "[2, 34, 99]\n",
      "[34, 2, 99]\n",
      "List c is:  [2, 34, 99]\n",
      "List b after changing an element in c is:  [34, 2, 99]\n"
     ]
    }
   ],
   "source": [
    "# Sort and sorted() function\n",
    "\n",
    "a = [55, 11, 9]\n",
    "a.sort() # Sort in place and overwrite\n",
    "print(a)\n",
    "\n",
    "\n",
    "b = [34, 2, 99]\n",
    "print(sorted(b)) # Returns a copy of the sorted list\n",
    "\n",
    "print(b) # b is still not sorted\n",
    "\n",
    "c = sorted(b) # returns a new copy. No referance\n",
    "print(\"List c is: \", c)\n",
    "c[0] = 12 # \n",
    "print(\"List b after changing an element in c is: \", b) # List b an c are disconnected completely"
   ]
  },
  {
   "cell_type": "code",
   "execution_count": 86,
   "metadata": {},
   "outputs": [
    {
     "name": "stdout",
     "output_type": "stream",
     "text": [
      "[11, 22, 44, 55, 66]\n",
      "[44, 55, 66]\n"
     ]
    }
   ],
   "source": [
    "# Deleting element\n",
    "a = [11, 22, 33, 44, 55, 66]\n",
    "del a[2] # Deletes ith idx\n",
    "print(a)\n",
    "\n",
    "del a[0:2] # Python range. Deletes 0, 1 idx only. Don't delete idx 2\n",
    "print(a)"
   ]
  },
  {
   "cell_type": "code",
   "execution_count": 100,
   "metadata": {},
   "outputs": [
    {
     "name": "stdout",
     "output_type": "stream",
     "text": [
      "[33, 44]\n",
      "[33, 44, 55, 66, 77]\n",
      "[11, 22, 33, 44]\n",
      "[11, 22, 33, 44, 55, 66]\n",
      "[55, 66, 77]\n",
      "[55, 66]\n",
      "[22, 44]\n",
      "[66, 44]\n",
      "[77, 66, 55, 44, 33, 22, 11]\n",
      "[44, 55, 66, 77, 11, 22, 33]\n",
      "[77, 11, 22, 33, 44, 55, 66]\n"
     ]
    }
   ],
   "source": [
    "# Slicing in python\n",
    "# Takes O(n) primitive operation time since they only reference values so actual size of the element doesn't matter\n",
    "# O(n) space\n",
    "a = [11, 22, 33, 44, 55, 66, 77]\n",
    "\n",
    "# idx 2, 3\n",
    "print(a[2:4]) # 33, 44\n",
    "\n",
    "# idx 2 till the end\n",
    "print(a[2:]) # 33, 44, 55, 66, 77\n",
    "\n",
    "# idx start till 4 last one excluded. Python range implied\n",
    "print(a[:4]) # 11, 22, 33, 44\n",
    "\n",
    "# idx start until (len(a) - 1) = 6 elements -> 0, 1, 2, 3, 4, 5. Last one excluded\n",
    "print(a[:-1])\n",
    "\n",
    "# 0 idx is the first one. So -1 is basically the last idx of the array. \n",
    "# -3 idx means 3rd last idx of the array\n",
    "\n",
    "# From -3 till the end. In other words, -3, -2, -1 idx\n",
    "print(a[-3:]) # 55, 66, 77\n",
    "\n",
    "# From -3 to -1 python default range\n",
    "print(a[-3:-1]) # 55, 66\n",
    "\n",
    "\n",
    "# Increment 2 idx instead of += 1\n",
    "# Idx 1, 3. Can not include 5 cause of python range\n",
    "print(a[1:5:2]) # 22, 44\n",
    "\n",
    "# Last argument is basically the increment number. \n",
    "# It could be decrement number too\n",
    "\n",
    "# idx 5, 3. Can not include 1 because of the python range\n",
    "print(a[5:1:-2]) # 66, 44\n",
    "\n",
    "# We can even reverse a list by traversing it decrementally\n",
    "print(a[::-1]) # Reversed list\n",
    "\n",
    "# Rotate a list by k idx\n",
    "k = 3\n",
    "a = a[k:] + a[:k] # Basically it's adding idx 3 till the end [44, 55, 66, 77] with idx 0 until k last one excluded [11, 22, 44]. So pretty much it rorates the list by k idx to the left\n",
    "print(a) # [44, 55, 66, 77, 11, 22, 33] -> Left rotate 3 idx is actually right rotate 4 idx. That makes it confusing\n",
    "\n",
    "\n",
    "# Rotate right by 1 idx\n",
    "b = [11, 22, 33, 44, 55, 66, 77]\n",
    "b = b[len(b) - 1:] + b[:len(b) - 1]\n",
    "print(b)"
   ]
  },
  {
   "cell_type": "markdown",
   "metadata": {},
   "source": [
    "### List comprehension"
   ]
  },
  {
   "cell_type": "code",
   "execution_count": 110,
   "metadata": {},
   "outputs": [
    {
     "name": "stdout",
     "output_type": "stream",
     "text": [
      "[0, 1, 4, 9, 16, 25]\n",
      "[0, 4, 16]\n",
      "[(1, 'a'), (1, 'b'), (2, 'a'), (2, 'b'), (3, 'a'), (3, 'b')]\n",
      "[[1, 4, 9], [16, 25, 36]]\n",
      "[[0, 1, 2, 3, 4], [0, 1, 2, 3, 4], [0, 1, 2, 3, 4], [0, 1, 2, 3, 4], [0, 1, 2, 3, 4]]\n"
     ]
    }
   ],
   "source": [
    "# List comprehension consists of \n",
    "# 1. Input sequence\n",
    "# 2. Iterator over the input sequence\n",
    "# 3. A logical condition over the input sequence(optional)\n",
    "# 4. An expression that yields the input sequence\n",
    "\n",
    "a = [x ** 2 for x in range(6)] # [0, 1, 4, 9, 16, 25]\n",
    "print(a)\n",
    "\n",
    "b = [x ** 2 for x in range(6) if x % 2 == 0] # [0, 4, 16]\n",
    "print(b)\n",
    "\n",
    "# Creating a product of sets\n",
    "arr = [1, 2, 3]\n",
    "brr = ['a', 'b']\n",
    "\n",
    "crr = [(x, y) for x in arr for y in brr] # Creates 6 elements. For every elements in arr touples with every element in brr\n",
    "print(crr) # [(1, 'a'), (1, 'b'), (2, 'a'), (2, 'b'), (3, 'a'), (3, 'b')]\n",
    "\n",
    "# 2D list comprehension\n",
    "p = [[1, 2, 3], [4, 5, 6]]\n",
    "m = [[1, 2, 3], [4, 5, 6]]\n",
    "c = [[x ** 2 for x in row] for row in p]\n",
    "print(c)\n",
    "\n",
    "\n",
    "# Initialize a 2D array\n",
    "array = [[x for x in range(5)] for y in range(5)] # x is for columns and them all the columns are multiplied by y(row) values\n",
    "print(array) # [[0, 1, 2, 3, 4], [0, 1, 2, 3, 4], [0, 1, 2, 3, 4], [0, 1, 2, 3, 4], [0, 1, 2, 3, 4]]"
   ]
  },
  {
   "cell_type": "code",
   "execution_count": null,
   "metadata": {},
   "outputs": [],
   "source": []
  }
 ],
 "metadata": {
  "interpreter": {
   "hash": "31f2aee4e71d21fbe5cf8b01ff0e069b9275f58929596ceb00d14d90e3e16cd6"
  },
  "kernelspec": {
   "display_name": "Python 3.8.9 64-bit",
   "language": "python",
   "name": "python3"
  },
  "language_info": {
   "codemirror_mode": {
    "name": "ipython",
    "version": 3
   },
   "file_extension": ".py",
   "mimetype": "text/x-python",
   "name": "python",
   "nbconvert_exporter": "python",
   "pygments_lexer": "ipython3",
   "version": "3.8.2"
  },
  "orig_nbformat": 4
 },
 "nbformat": 4,
 "nbformat_minor": 2
}
