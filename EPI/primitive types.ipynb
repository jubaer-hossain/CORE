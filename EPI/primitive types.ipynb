{
 "cells": [
  {
   "cell_type": "markdown",
   "metadata": {},
   "source": [
    "Some useful neumeric methods in python"
   ]
  },
  {
   "cell_type": "code",
   "execution_count": 27,
   "metadata": {},
   "outputs": [
    {
     "name": "stdout",
     "output_type": "stream",
     "text": [
      "35\n",
      "3\n",
      "8\n",
      "9\n",
      "9\n",
      "5.0\n"
     ]
    }
   ],
   "source": [
    "import math\n",
    "print(abs(-35))\n",
    "print(math.ceil(2.17))\n",
    "print(math.floor(8.9))\n",
    "print(pow(3, 2))\n",
    "print(3 ** 2) # Also acts as power operator\n",
    "print(math.sqrt(25))"
   ]
  },
  {
   "cell_type": "code",
   "execution_count": 28,
   "metadata": {},
   "outputs": [
    {
     "name": "stdout",
     "output_type": "stream",
     "text": [
      "<class 'str'>\n",
      "<class 'int'>\n",
      "<class 'str'>\n",
      "<class 'float'>\n"
     ]
    }
   ],
   "source": [
    "# Int to string\n",
    "print(type(str(42)))\n",
    "print(type(int(\"42\")))\n",
    "\n",
    "# Float conversion\n",
    "print(type(str(12.3)))\n",
    "print(type(float(\"4.88\")))"
   ]
  },
  {
   "cell_type": "markdown",
   "metadata": {},
   "source": [
    "Floats are not infinite percision. That's why it's better to refer \"infinity\" as float('inf') and float('-inf'). These values are comparable to int and can be use to create psuedo max-int and psuedo min-int value"
   ]
  },
  {
   "cell_type": "code",
   "execution_count": 29,
   "metadata": {},
   "outputs": [
    {
     "name": "stdout",
     "output_type": "stream",
     "text": [
      "Float inf working\n"
     ]
    }
   ],
   "source": [
    "num = 100\n",
    "maxValue = float(\"inf\")\n",
    "if(maxValue > num):\n",
    "    print(\"Float inf working\")"
   ]
  },
  {
   "cell_type": "code",
   "execution_count": 30,
   "metadata": {},
   "outputs": [
    {
     "name": "stdout",
     "output_type": "stream",
     "text": [
      "False\n",
      "True\n",
      "False\n",
      "True\n"
     ]
    }
   ],
   "source": [
    "#Import math Library\n",
    "import math\n",
    "\n",
    "#compare the closeness of two values\n",
    "print(math.isclose(1.233, 1.4566))\n",
    "print(math.isclose(1.233, 1.233))\n",
    "print(math.isclose(1.233, 1.24))\n",
    "print(math.isclose(1.233, 1.233000001))"
   ]
  },
  {
   "cell_type": "markdown",
   "metadata": {},
   "source": [
    "## Parity\n",
    "The parity of a binary number is 1 if the number of 1s is odd. If the number of 1s is even then the parity is 0\n",
    "\n",
    "For example 1011 has parity of 1 and 110011 has parity of 0"
   ]
  },
  {
   "cell_type": "code",
   "execution_count": 35,
   "metadata": {},
   "outputs": [
    {
     "name": "stdout",
     "output_type": "stream",
     "text": [
      "1\n"
     ]
    }
   ],
   "source": [
    "# Brute force algorightm to check parity\n",
    "def parity(num):\n",
    "    result = 0\n",
    "    while num:\n",
    "        result = result ^ num & 1 # So if result is 0 and current bit is 1 then the result will be 1 due to XOR. \n",
    "        # If result is 1 and current bit is 1 then the result will be 0 due to XOR\n",
    "        # Can be written as = result ^= num & 1 \n",
    "        num >>= 1\n",
    "    return result\n",
    "\n",
    "print(parity(13)) #1101 => 1 * 2^3 + 1 * 2^2 + 0 * 2^1 + 1 * 2^0 => 8 + 4 + 0 + 1 => 13"
   ]
  },
  {
   "cell_type": "markdown",
   "metadata": {},
   "source": [
    "A more efficient approach: x & (x - 1) is equals to x with it's lowest set bit erased. \n",
    "For example 6 & 5 -> 110 & 101 -> 100\n",
    "\n",
    "So the program basically sets result to 0 and flips the value each time by XOR by overwriting it.\n",
    "And drops the lowest set bit until the whole number becomes zero"
   ]
  },
  {
   "cell_type": "code",
   "execution_count": 3,
   "metadata": {},
   "outputs": [
    {
     "name": "stdout",
     "output_type": "stream",
     "text": [
      "1\n"
     ]
    }
   ],
   "source": [
    "def parityWithSetBit(x):\n",
    "    result = 0\n",
    "    while x: # Until x turns to zero\n",
    "        result = result ^ 1 # Flips the bit\n",
    "        x = x & (x - 1) # Drops the last set bit\n",
    "    return result\n",
    "print(parityWithSetBit(13))"
   ]
  },
  {
   "cell_type": "markdown",
   "metadata": {},
   "source": [
    "### 4.1 Parity with Cache\n",
    "For a 64 bit number use a 16 bit cache. Shift each 16 bits to 48, 32 and 16 bits right and bitmask them with a 16 bit mask. Then XOR them to find the parity"
   ]
  },
  {
   "cell_type": "code",
   "execution_count": null,
   "metadata": {},
   "outputs": [],
   "source": [
    "def parityWithCache(x):\n",
    "    maskSize = 16\n",
    "    bitMask = 0xFFFF\n",
    "    parity = precomputedParity[x >> (3 * maskSize)] ^ precomputedParity[(x >> (2 * maskSize)) & bitMask] ^ precomputedParity[(x >> maskSize) & bitMask] ^ precomputedParity[x & bitMask]\n",
    "\n",
    "    return parity"
   ]
  },
  {
   "cell_type": "markdown",
   "metadata": {},
   "source": [
    "Complexity is size of the keys used to index the lookup table. \n",
    "L -> Width of the words for cache -> 2.\n",
    "n -> length of the word that we check parity -> 8.\n",
    "Complexity is **O(n/L) -> becuase there are n/L or 4 terms to process** assuming that the word level operations takes O(1) time and without the initialisation cost of the lookup table"
   ]
  },
  {
   "cell_type": "markdown",
   "metadata": {},
   "source": [
    "### Parity taking advantage of the XOR and CPU level instructions"
   ]
  },
  {
   "cell_type": "code",
   "execution_count": 15,
   "metadata": {},
   "outputs": [
    {
     "name": "stdout",
     "output_type": "stream",
     "text": [
      "1\n"
     ]
    }
   ],
   "source": [
    "# O(logN) time, where N is the word size. Because each iteration we are reducing the calculation in half\n",
    "def parity(x): # 64 bit int\n",
    "    # shiftBits = 0xFFFFFFFF\n",
    "    # while shiftBits:\n",
    "    #     x ^= x >> shiftBits\n",
    "    #     shiftBits = shiftBits / 0x10\n",
    "    x ^= x >> 32 # Right shift x by 32 bits and XOR that with x\n",
    "    x ^= x >> 16 # x = x ^ x >> 16 Right shift x by 16 bits and XOR that with x itself\n",
    "    x ^= x >> 8\n",
    "    x ^= x >> 4\n",
    "    x ^= x >> 2\n",
    "    x ^= x >> 1\n",
    "    return x & 0x1 # We only care about the last bit and that's why we are masking all the previosu bits using a bit mask & operation\n",
    "\n",
    "print(parity(13))"
   ]
  },
  {
   "cell_type": "markdown",
   "metadata": {},
   "source": [
    "Right propagate the rightmost set bits in x. Turn 01010000 into 01011111.\n",
    "\n",
    "An intresting fact is that if you subtract 1 from a number like 10 or 10000 it becomes 01 or 01111. For example 16 is 10000. So 15 is basically 01111. We can use this property and make the bitwise OR operation to right propagate the numbers"
   ]
  },
  {
   "cell_type": "code",
   "execution_count": 27,
   "metadata": {},
   "outputs": [
    {
     "name": "stdout",
     "output_type": "stream",
     "text": [
      "0b11111\n"
     ]
    }
   ],
   "source": [
    "def rightPropagate(x):\n",
    "    return x | (x - 1)\n",
    "print(bin(rightPropagate(16)))"
   ]
  },
  {
   "cell_type": "markdown",
   "metadata": {},
   "source": [
    "Compute x mod power of two. For example 77 mod 64 will return 13"
   ]
  },
  {
   "cell_type": "code",
   "execution_count": 29,
   "metadata": {},
   "outputs": [
    {
     "name": "stdout",
     "output_type": "stream",
     "text": [
      "5\n"
     ]
    }
   ],
   "source": [
    "def binaryModFromPowerOfTwo(x, power):\n",
    "    y = pow(2, power)\n",
    "    return x & (y - 1)\n",
    "\n",
    "print(binaryModFromPowerOfTwo(13, 3))"
   ]
  },
  {
   "cell_type": "code",
   "execution_count": 31,
   "metadata": {},
   "outputs": [
    {
     "name": "stdout",
     "output_type": "stream",
     "text": [
      "0b10000\n"
     ]
    }
   ],
   "source": [
    "print(bin(1 << 4))"
   ]
  },
  {
   "cell_type": "code",
   "execution_count": 41,
   "metadata": {},
   "outputs": [
    {
     "name": "stdout",
     "output_type": "stream",
     "text": [
      "0b1\n",
      "0b100\n"
     ]
    }
   ],
   "source": [
    "def swapBits(x, i, j):\n",
    "    if (x >> i) & 1 != (x >> j) & 1: # Because we only care about the last digit. That's why we are masking all other digits by doing AND with 1. Also if both are 0 then AND with 1 will be 0 . But if both are 1 then AND with 1 will result in 1\n",
    "        bitMask = (1 << i) | (1 << j) # Creating a bitmask like this 100010 to use the XOR property. 0 ^ 1 = 1 but 1 ^ 1 = 0\n",
    "        x ^= bitMask\n",
    "    return x\n",
    "\n",
    "print(bin(swapBits(16, 0, 4))) # 00001\n",
    "print(bin(4))"
   ]
  },
  {
   "cell_type": "markdown",
   "metadata": {},
   "source": [
    "### Reverse Bits\n",
    "1. Right shift\n",
    "2. Bitmask unnecessary bits\n",
    "3. Look up the reversed number in the look up table\n",
    "4. Left shift it on it's new reversed position"
   ]
  },
  {
   "cell_type": "code",
   "execution_count": 45,
   "metadata": {},
   "outputs": [],
   "source": [
    "# 11010100\n",
    "# O(n/L) time - because we have to loop precomputed reverse for each bit segements\n",
    "# O(L) space - where L is the cache size. Ideally n/4 \n",
    "def reverseBits(x):\n",
    "    # precomputedReverse -> Need to define a hashmap or set\n",
    "    maskSize = 16\n",
    "    bitMask = 0xFFFF\n",
    "    return precomputedReverse[(x >> 3 * maskSize) & bitMask] | precomputedReverse[(x >> 2 * maskSize) & bitMask] << maskSize | precomputedReverse[(x >> maskSize) & bitMask] << 2 * maskSize | precomputedReverse[x & bitMask] << 3 * maskSize"
   ]
  },
  {
   "cell_type": "markdown",
   "metadata": {},
   "source": [
    "### Find closest integer with same weight"
   ]
  },
  {
   "cell_type": "code",
   "execution_count": 52,
   "metadata": {},
   "outputs": [
    {
     "name": "stdout",
     "output_type": "stream",
     "text": [
      "5\n"
     ]
    }
   ],
   "source": [
    "# O(n) time where n is the length of the int | O(1) space\n",
    "def closestIntSameBitCount(x):\n",
    "    maxNumberOfBits = 64\n",
    "    for i in range(maxNumberOfBits - 1): # A 64 bits int has 63 positions starting from 0. So at 62th position we will be accessing 62th and 63th position. Python range function runs until that number excluded. So in this case until 62\n",
    "        if (x >> i) & 1 != (x >> (i + 1)) & 1:\n",
    "            x ^= (1 << i) | (1 << (i + 1))\n",
    "            return x # You have to return from the loop or break out otherwise it will keep calculating and finding the next set of unmatched bits\n",
    "print(closestIntSameBitCount(6))"
   ]
  }
 ],
 "metadata": {
  "interpreter": {
   "hash": "31f2aee4e71d21fbe5cf8b01ff0e069b9275f58929596ceb00d14d90e3e16cd6"
  },
  "kernelspec": {
   "display_name": "Python 3.8.9 64-bit",
   "language": "python",
   "name": "python3"
  },
  "language_info": {
   "codemirror_mode": {
    "name": "ipython",
    "version": 3
   },
   "file_extension": ".py",
   "mimetype": "text/x-python",
   "name": "python",
   "nbconvert_exporter": "python",
   "pygments_lexer": "ipython3",
   "version": "3.8.9"
  },
  "orig_nbformat": 4
 },
 "nbformat": 4,
 "nbformat_minor": 2
}
